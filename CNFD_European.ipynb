{
 "cells": [
  {
   "cell_type": "markdown",
   "metadata": {},
   "source": [
    "# FIN 514 - Crank-Nicolson Finite Difference - European options\n",
    "**Spring 2021**\n",
    "\n",
    "This notebook provides a simple Crank-Nicolson Finite Difference Code to value European style options\n",
    "\n",
    "## Packages and Configurations\n",
    "\n",
    "The following common packages will be use on this notebook.\n",
    "\n",
    "* numpy - [https://numpy.org/](https://numpy.org/)\n",
    "* Pandas - [https://pandas.pydata.org/](https://pandas.pydata.org/)\n",
    "* matplotlib - [https://matplotlib.org/](https://matplotlib.org/)\n",
    "* Scipy Statistical functions - [https://docs.scipy.org/doc/scipy/reference/stats.html](https://docs.scipy.org/doc/scipy/reference/stats.html)\n"
   ]
  },
  {
   "cell_type": "code",
   "execution_count": 1,
   "metadata": {},
   "outputs": [],
   "source": [
    "import numpy as np\n",
    "import pandas as pd\n",
    "import scipy.stats as st\n",
    "import matplotlib.pyplot as plt"
   ]
  },
  {
   "cell_type": "markdown",
   "metadata": {},
   "source": []
  },
  {
   "cell_type": "markdown",
   "metadata": {},
   "source": [
    "\n"
   ]
  },
  {
   "cell_type": "code",
   "execution_count": 2,
   "metadata": {},
   "outputs": [],
   "source": [
    "# ENTER INPUT FOR: start_step\n",
    "\n",
    "\n",
    "#jmax = 100 #Number of S steps\n",
    "imax = 5000 #Number of t steps\n",
    "S0 = 40.0\n",
    "K = 39.0\n",
    "sigma = 0.2\n",
    "r = 0.005\n",
    "q = 0\n",
    "T = 0.5\n",
    "SL = 0 #Minimum S value\n",
    "SU = 2.5*S0 #Maximum S value"
   ]
  },
  {
   "cell_type": "code",
   "execution_count": 3,
   "metadata": {},
   "outputs": [],
   "source": [
    "# ENTER INPUT FOR: whether option is call (1) or put (0)\n",
    "cp = 1"
   ]
  },
  {
   "cell_type": "markdown",
   "metadata": {},
   "source": [
    "## Black-Scholes Model "
   ]
  },
  {
   "cell_type": "code",
   "execution_count": 4,
   "metadata": {},
   "outputs": [],
   "source": [
    "def black_scholes(S0, K, T, r, q, sigma, cp):\n",
    "    \"\"\"\n",
    "    Function to calculates the value of a European Call Option using Black Scholes \n",
    "    \n",
    "    S0: Original Stock Price\n",
    "    K: Excercise Price of Call Option\n",
    "    T: Time Length of Option in which to Exercise (In Years)\n",
    "    r: Annualized Continously Compounded Risk-free Rate\n",
    "    q: Rate of continuous dividend paying asset \n",
    "    sigma: Annualized (Future) Volatility of Stock Price Returns\n",
    "    \n",
    "    \"\"\"\n",
    "    \n",
    "    cdf_mean = 0.0\n",
    "    cdf_sd = 1.0\n",
    "    \n",
    "    d1 = (np.log(S0 / K) + (r - q + 0.5 * sigma ** 2) * T) / (sigma * np.sqrt(T))\n",
    "    d2 = (np.log(S0 / K) + (r - q - 0.5 * sigma ** 2) * T) / (sigma * np.sqrt(T))\n",
    "    \n",
    "    if cp == 1:\n",
    "        value = S0 * np.exp(-q * T) * st.norm.cdf(d1, cdf_mean, cdf_sd) \n",
    "        value = value - K * np.exp(-r * T) * st.norm.cdf(d2, cdf_mean, cdf_sd) \n",
    "    else:\n",
    "        value = -S0 * np.exp(-q * T) * st.norm.cdf(-d1, cdf_mean, cdf_sd) \n",
    "        value = value + K * np.exp(-r * T) * st.norm.cdf(-d2, cdf_mean, cdf_sd) \n",
    "    \n",
    "    return value"
   ]
  },
  {
   "cell_type": "markdown",
   "metadata": {},
   "source": [
    "## Crank-Nicolson Finite Difference Function"
   ]
  },
  {
   "cell_type": "code",
   "execution_count": 5,
   "metadata": {},
   "outputs": [],
   "source": [
    "\n",
    "def CNFD_model(S0, K, T, r, q, sigma, SU, jmaxmin, jmaxmax, jmaxstep, imax):\n",
    "    \n",
    "    #LIST TO SAVE RESULTS\n",
    "    #Assumes that SL= 0, can be relaxed, see notes for updates A, B, C values in this case\n",
    "    \n",
    "    cnfd_result = []\n",
    "    \n",
    "    for jmax in range(jmaxmin, jmaxmax, jmaxstep): \n",
    "    \n",
    "    # CREATE TWO DIMENSIONAL ARRAY OF SIZE [imax+1,jmax+1] TO STORE V AT ALL STEPS\n",
    "    # V[imax, jmax]\n",
    "    \n",
    "        V = np.zeros([imax+1, jmax+1])\n",
    "\n",
    "    # CREATE ONE DIMENSIONAL ARRAY OF SIZE [jmax+1] TO STORE A, B, C VALUES AT ALL STEPS\n",
    "    # A[jmax], B[jmax], C[jmax] \n",
    "    \n",
    "        A = np.zeros([jmax+1])\n",
    "        B = np.zeros([jmax+1])\n",
    "        C = np.zeros([jmax+1])\n",
    "        D = np.zeros([jmax+1])\n",
    "        alpha = np.zeros([jmax+1])\n",
    "        CN_S = np.zeros([jmax+1])\n",
    "    \n",
    "    # Set up time and S steps\n",
    "    \n",
    "        dt = T / imax\n",
    "        dS = SU/jmax\n",
    "       \n",
    "        \n",
    "    # CALCULATE OPTION VALUES AND PROBABILITIES\n",
    "    # Start at the last step number because we are going to be moving backwards from times step imax to times step 0\n",
    "    \n",
    "        i = imax \n",
    "        \n",
    "        for j in range(0, jmax+1):    \n",
    "    # Then, calculate the value of the option at that exact position within the binomial tree\n",
    "    # Also calculate the probabilities A, B, C\n",
    "           \n",
    "            V[i, j] = np.maximum(j*dS - K, 0)\n",
    "            A[j] = 0.25*sigma**2*j**2 - 0.25*(r-q)*j\n",
    "            B[j] = -1/dt-0.5*r-0.5*sigma**2*j**2\n",
    "            C[j] = 0.25*sigma**2*j**2 + 0.25*(r-q)*j\n",
    "\n",
    "    #Now go back in time\n",
    "        for i in range(imax-1, -1, -1):\n",
    "\n",
    "            #Lower boundary condition in matrix terms\n",
    "            A[0] = 0\n",
    "            B[0] = 1\n",
    "            C[0] = 0\n",
    "            D[0] = 0\n",
    "    \n",
    "            #regular D values\n",
    "            for j in range(1, jmax, 1):\n",
    "                \n",
    "                D1 = -V[i+1,j-1]*(0.25*sigma**2*j**2-0.25*(r-q)*j)\n",
    "                D2 = -V[i+1,j]*(1/dt-0.5*r-0.5*sigma**2*j**2)\n",
    "                D3 = -V[i+1,j+1]*(0.25*sigma**2*j**2+0.25*(r-q)*j)\n",
    "                D[j] = D1+D2+D3\n",
    "            \n",
    "            #Upper boundary condition in matrix terms\n",
    "            A[jmax] = 0\n",
    "            B[jmax] = 1\n",
    "            C[jmax] = 0\n",
    "            D[jmax] = SU*np.exp(-q*(T-i*dt))-K*np.exp(-r*(T-i*dt))\n",
    "            \n",
    "            \n",
    "            alpha[0] = B[0]\n",
    "            CN_S[0] = D[0]\n",
    "            for j in range(1, jmax+1, 1):\n",
    "                alpha[j] = B[j]-(A[j]*C[j-1])/alpha[j-1]\n",
    "                CN_S[j] = D[j]-(A[j]*CN_S[j-1])/alpha[j-1]  \n",
    "            V[i,jmax] = CN_S[jmax]/alpha[jmax]\n",
    "            for j in range(jmax-1,-1,-1):\n",
    "                V[i,j] = (CN_S[j]-C[j]*V[i,j+1])/alpha[j]\n",
    "                \n",
    "    # RELAY OUTPUTS TO DICTIONARY\n",
    "        jcritreal = S0/dS\n",
    "        jcrit = int(jcritreal)\n",
    "        jcritK = int(K/dS)+1\n",
    "        Vcrit = V[0,jcrit]+ (S0 - jcrit * dS) / (dS) * (V[0,jcrit+1] - V[0,jcrit])\n",
    "        Klambda = (jcritK*dS - K)/dS\n",
    "        output = {'S_steps': jmax, 't_steps': imax, 'CN': Vcrit, 'Lambda': Klambda}\n",
    "        cnfd_result.append(output)\n",
    "\n",
    "    return cnfd_result\n"
   ]
  },
  {
   "cell_type": "code",
   "execution_count": 6,
   "metadata": {},
   "outputs": [],
   "source": [
    "cnfd = CNFD_model(S0, K, T, r, q, sigma, SU, 40, 500, 20, 5000)"
   ]
  },
  {
   "cell_type": "code",
   "execution_count": 7,
   "metadata": {},
   "outputs": [
    {
     "data": {
      "text/plain": [
       "2.815448444060152"
      ]
     },
     "execution_count": 7,
     "metadata": {},
     "output_type": "execute_result"
    }
   ],
   "source": [
    "bsc_value = black_scholes(S0, K, T, r, q, sigma,cp)\n",
    "bsc_value"
   ]
  },
  {
   "cell_type": "code",
   "execution_count": 8,
   "metadata": {},
   "outputs": [],
   "source": [
    "# CREATE A DATAFRAME FROM THE BINOMIAL MODEL OUTPUT\n",
    "df = pd.DataFrame.from_dict(cnfd)"
   ]
  },
  {
   "cell_type": "code",
   "execution_count": 9,
   "metadata": {},
   "outputs": [],
   "source": [
    "# CALCULATE THE ERROR FROM BINOMIAL MODEL COMPARED WITH BLACK-SHCOLES\n",
    "df['error_cn'] = df[\"CN\"] - bsc_value "
   ]
  },
  {
   "cell_type": "code",
   "execution_count": 10,
   "metadata": {},
   "outputs": [
    {
     "data": {
      "text/html": [
       "<div>\n",
       "<style scoped>\n",
       "    .dataframe tbody tr th:only-of-type {\n",
       "        vertical-align: middle;\n",
       "    }\n",
       "\n",
       "    .dataframe tbody tr th {\n",
       "        vertical-align: top;\n",
       "    }\n",
       "\n",
       "    .dataframe thead th {\n",
       "        text-align: right;\n",
       "    }\n",
       "</style>\n",
       "<table border=\"1\" class=\"dataframe\">\n",
       "  <thead>\n",
       "    <tr style=\"text-align: right;\">\n",
       "      <th></th>\n",
       "      <th>S_steps</th>\n",
       "      <th>t_steps</th>\n",
       "      <th>CN</th>\n",
       "      <th>Lambda</th>\n",
       "      <th>error_cn</th>\n",
       "    </tr>\n",
       "  </thead>\n",
       "  <tbody>\n",
       "    <tr>\n",
       "      <th>0</th>\n",
       "      <td>40</td>\n",
       "      <td>5000</td>\n",
       "      <td>2.815411</td>\n",
       "      <td>0.4</td>\n",
       "      <td>-0.000037</td>\n",
       "    </tr>\n",
       "    <tr>\n",
       "      <th>1</th>\n",
       "      <td>60</td>\n",
       "      <td>5000</td>\n",
       "      <td>2.815399</td>\n",
       "      <td>0.6</td>\n",
       "      <td>-0.000050</td>\n",
       "    </tr>\n",
       "    <tr>\n",
       "      <th>2</th>\n",
       "      <td>80</td>\n",
       "      <td>5000</td>\n",
       "      <td>2.810890</td>\n",
       "      <td>0.8</td>\n",
       "      <td>-0.004559</td>\n",
       "    </tr>\n",
       "    <tr>\n",
       "      <th>3</th>\n",
       "      <td>100</td>\n",
       "      <td>5000</td>\n",
       "      <td>2.806789</td>\n",
       "      <td>1.0</td>\n",
       "      <td>-0.008659</td>\n",
       "    </tr>\n",
       "    <tr>\n",
       "      <th>4</th>\n",
       "      <td>120</td>\n",
       "      <td>5000</td>\n",
       "      <td>2.813438</td>\n",
       "      <td>0.2</td>\n",
       "      <td>-0.002010</td>\n",
       "    </tr>\n",
       "  </tbody>\n",
       "</table>\n",
       "</div>"
      ],
      "text/plain": [
       "   S_steps  t_steps        CN  Lambda  error_cn\n",
       "0       40     5000  2.815411     0.4 -0.000037\n",
       "1       60     5000  2.815399     0.6 -0.000050\n",
       "2       80     5000  2.810890     0.8 -0.004559\n",
       "3      100     5000  2.806789     1.0 -0.008659\n",
       "4      120     5000  2.813438     0.2 -0.002010"
      ]
     },
     "execution_count": 10,
     "metadata": {},
     "output_type": "execute_result"
    }
   ],
   "source": [
    "# INSPECT THE FIRST ROWS OF THE DATAFRAME\n",
    "df.head()"
   ]
  },
  {
   "cell_type": "code",
   "execution_count": 11,
   "metadata": {},
   "outputs": [
    {
     "data": {
      "text/html": [
       "<div>\n",
       "<style scoped>\n",
       "    .dataframe tbody tr th:only-of-type {\n",
       "        vertical-align: middle;\n",
       "    }\n",
       "\n",
       "    .dataframe tbody tr th {\n",
       "        vertical-align: top;\n",
       "    }\n",
       "\n",
       "    .dataframe thead th {\n",
       "        text-align: right;\n",
       "    }\n",
       "</style>\n",
       "<table border=\"1\" class=\"dataframe\">\n",
       "  <thead>\n",
       "    <tr style=\"text-align: right;\">\n",
       "      <th></th>\n",
       "      <th>S_steps</th>\n",
       "      <th>t_steps</th>\n",
       "      <th>CN</th>\n",
       "      <th>Lambda</th>\n",
       "      <th>error_cn</th>\n",
       "    </tr>\n",
       "  </thead>\n",
       "  <tbody>\n",
       "    <tr>\n",
       "      <th>18</th>\n",
       "      <td>400</td>\n",
       "      <td>5000</td>\n",
       "      <td>2.814910</td>\n",
       "      <td>1.0</td>\n",
       "      <td>-0.000538</td>\n",
       "    </tr>\n",
       "    <tr>\n",
       "      <th>19</th>\n",
       "      <td>420</td>\n",
       "      <td>5000</td>\n",
       "      <td>2.815285</td>\n",
       "      <td>0.2</td>\n",
       "      <td>-0.000164</td>\n",
       "    </tr>\n",
       "    <tr>\n",
       "      <th>20</th>\n",
       "      <td>440</td>\n",
       "      <td>5000</td>\n",
       "      <td>2.815447</td>\n",
       "      <td>0.4</td>\n",
       "      <td>-0.000001</td>\n",
       "    </tr>\n",
       "    <tr>\n",
       "      <th>21</th>\n",
       "      <td>460</td>\n",
       "      <td>5000</td>\n",
       "      <td>2.815447</td>\n",
       "      <td>0.6</td>\n",
       "      <td>-0.000001</td>\n",
       "    </tr>\n",
       "    <tr>\n",
       "      <th>22</th>\n",
       "      <td>480</td>\n",
       "      <td>5000</td>\n",
       "      <td>2.815323</td>\n",
       "      <td>0.8</td>\n",
       "      <td>-0.000125</td>\n",
       "    </tr>\n",
       "  </tbody>\n",
       "</table>\n",
       "</div>"
      ],
      "text/plain": [
       "    S_steps  t_steps        CN  Lambda  error_cn\n",
       "18      400     5000  2.814910     1.0 -0.000538\n",
       "19      420     5000  2.815285     0.2 -0.000164\n",
       "20      440     5000  2.815447     0.4 -0.000001\n",
       "21      460     5000  2.815447     0.6 -0.000001\n",
       "22      480     5000  2.815323     0.8 -0.000125"
      ]
     },
     "execution_count": 11,
     "metadata": {},
     "output_type": "execute_result"
    }
   ],
   "source": [
    "# INSPECT THE LAST ROWS OF THE DATAFRAME\n",
    "df.tail()"
   ]
  },
  {
   "cell_type": "code",
   "execution_count": 12,
   "metadata": {},
   "outputs": [],
   "source": [
    "# EXPORT THE DATA TO A CSV FILE\n",
    "df.to_csv(\"Data/cn.csv\", index=False)"
   ]
  },
  {
   "cell_type": "markdown",
   "metadata": {},
   "source": [
    "CN finite difference error profile with varying lambda"
   ]
  },
  {
   "cell_type": "code",
   "execution_count": 13,
   "metadata": {
    "scrolled": true
   },
   "outputs": [
    {
     "data": {
      "image/png": "[encoded data removed]",
      "text/plain": [
       "<Figure size 1008x720 with 1 Axes>"
      ]
     },
     "metadata": {
      "needs_background": "light"
     },
     "output_type": "display_data"
    }
   ],
   "source": [
    "plt.figure(figsize=(14,10))\n",
    "plt.plot(df['S_steps'], df['error_cn'], '-', markersize=3)\n",
    "plt.savefig('Images/cneur1.png')\n",
    "plt.show()"
   ]
  },
  {
   "cell_type": "code",
   "execution_count": 14,
   "metadata": {},
   "outputs": [],
   "source": [
    "# ENTER INPUT FOR: start_step\n",
    "\n",
    "\n",
    "#jmax = 100 #Number of S steps\n",
    "imax = 5000 #Number of t steps\n",
    "S0 = 40.0\n",
    "K = 40.0\n",
    "sigma = 0.2\n",
    "r = 0.005\n",
    "q = 0\n",
    "T = 0.5\n",
    "SL = 0 #Minimum S value\n",
    "SU = 2.5*S0 #Maximum S value"
   ]
  },
  {
   "cell_type": "code",
   "execution_count": 15,
   "metadata": {},
   "outputs": [],
   "source": [
    "cnfd = CNFD_model(S0, K, T, r, q, sigma, SU, 40, 500, 20, 5000)"
   ]
  },
  {
   "cell_type": "code",
   "execution_count": 16,
   "metadata": {},
   "outputs": [
    {
     "data": {
      "text/plain": [
       "2.302352874900283"
      ]
     },
     "execution_count": 16,
     "metadata": {},
     "output_type": "execute_result"
    }
   ],
   "source": [
    "bsc_value = black_scholes(S0, K, T, r, q, sigma,cp)\n",
    "bsc_value"
   ]
  },
  {
   "cell_type": "code",
   "execution_count": 17,
   "metadata": {},
   "outputs": [],
   "source": [
    "# CREATE A DATAFRAME FROM THE BINOMIAL MODEL OUTPUT\n",
    "df = pd.DataFrame.from_dict(cnfd)"
   ]
  },
  {
   "cell_type": "code",
   "execution_count": 18,
   "metadata": {},
   "outputs": [],
   "source": [
    "# CALCULATE THE ERROR FROM BINOMIAL MODEL COMPARED WITH BLACK-SHCOLES\n",
    "df['error_cn'] = df[\"CN\"] - bsc_value "
   ]
  },
  {
   "cell_type": "markdown",
   "metadata": {},
   "source": [
    "### Crank-Nicolson finite difference error profile with fixed lambda "
   ]
  },
  {
   "cell_type": "code",
   "execution_count": 19,
   "metadata": {
    "scrolled": true
   },
   "outputs": [
    {
     "data": {
      "image/png": "[encoded data removed]",
      "text/plain": [
       "<Figure size 1008x720 with 1 Axes>"
      ]
     },
     "metadata": {
      "needs_background": "light"
     },
     "output_type": "display_data"
    }
   ],
   "source": [
    "plt.figure(figsize=(14,10))\n",
    "plt.plot(df['S_steps'], df['error_cn'], '-', markersize=3)\n",
    "plt.savefig('Images/cneur2.png')\n",
    "plt.show()"
   ]
  },
  {
   "cell_type": "code",
   "execution_count": 20,
   "metadata": {},
   "outputs": [],
   "source": [
    "# ENTER INPUT FOR: start_step\n",
    "\n",
    "\n",
    "#jmax = 100 #Number of S steps\n",
    "imax = 5000 #Number of t steps\n",
    "S0 = 40.0\n",
    "K = 39.0\n",
    "sigma = 0.2\n",
    "r = 0.005\n",
    "q = 0\n",
    "T = 0.5\n",
    "SL = 0 #Minimum S value\n",
    "SU = 2.5*S0 #Maximum S value"
   ]
  },
  {
   "cell_type": "code",
   "execution_count": 21,
   "metadata": {},
   "outputs": [],
   "source": [
    "cnfd = CNFD_model(S0, K, T, r, q, sigma, SU, 50, 500, 100, 5000)"
   ]
  },
  {
   "cell_type": "code",
   "execution_count": 22,
   "metadata": {},
   "outputs": [
    {
     "data": {
      "text/plain": [
       "2.815448444060152"
      ]
     },
     "execution_count": 22,
     "metadata": {},
     "output_type": "execute_result"
    }
   ],
   "source": [
    "bsc_value = black_scholes(S0, K, T, r, q, sigma,cp)\n",
    "bsc_value"
   ]
  },
  {
   "cell_type": "code",
   "execution_count": 23,
   "metadata": {},
   "outputs": [],
   "source": [
    "# CREATE A DATAFRAME FROM THE BINOMIAL MODEL OUTPUT\n",
    "df = pd.DataFrame.from_dict(cnfd)"
   ]
  },
  {
   "cell_type": "code",
   "execution_count": 24,
   "metadata": {},
   "outputs": [],
   "source": [
    "# CALCULATE THE ERROR FROM BINOMIAL MODEL COMPARED WITH BLACK-SHCOLES\n",
    "df['error_cn'] = df[\"CN\"] - bsc_value "
   ]
  },
  {
   "cell_type": "markdown",
   "metadata": {},
   "source": [
    "### Crank-Nicolson finite difference error profile with fixed lambda but K = 39"
   ]
  },
  {
   "cell_type": "code",
   "execution_count": 25,
   "metadata": {
    "scrolled": true
   },
   "outputs": [
    {
     "data": {
      "image/png": "[encoded data removed]",
      "text/plain": [
       "<Figure size 1008x720 with 1 Axes>"
      ]
     },
     "metadata": {
      "needs_background": "light"
     },
     "output_type": "display_data"
    }
   ],
   "source": [
    "plt.figure(figsize=(14,10))\n",
    "plt.plot(df['S_steps'], df['error_cn'], '-', markersize=3)\n",
    "plt.savefig('Images/cneur3.png')\n",
    "plt.show()"
   ]
  },
  {
   "cell_type": "code",
   "execution_count": null,
   "metadata": {},
   "outputs": [],
   "source": []
  }
 ],
 "metadata": {
  "kernelspec": {
   "display_name": "Python 3",
   "language": "python",
   "name": "python3"
  },
  "language_info": {
   "codemirror_mode": {
    "name": "ipython",
    "version": 3
   },
   "file_extension": ".py",
   "mimetype": "text/x-python",
   "name": "python",
   "nbconvert_exporter": "python",
   "pygments_lexer": "ipython3",
   "version": "3.8.5"
  }
 },
 "nbformat": 4,
 "nbformat_minor": 4
}
