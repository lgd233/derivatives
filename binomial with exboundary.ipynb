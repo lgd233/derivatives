{
 "cells": [
  {
   "cell_type": "markdown",
   "metadata": {},
   "source": [
    "# FIN 514 - PS3 Q1 CRR\n",
    "**Spring 2021**\n",
    "\n",
    "This notebook provides the graphs for PS3 Q1 for the CRR model\n",
    "\n",
    "## Packages and Configurations\n",
    "\n",
    "The following common packages will be use on this notebook.\n",
    "\n",
    "* numpy - [https://numpy.org/](https://numpy.org/)\n",
    "* Pandas - [https://pandas.pydata.org/](https://pandas.pydata.org/)\n",
    "* matplotlib - [https://matplotlib.org/](https://matplotlib.org/)\n",
    "* Scipy Statistical functions - [https://docs.scipy.org/doc/scipy/reference/stats.html](https://docs.scipy.org/doc/scipy/reference/stats.html)\n"
   ]
  },
  {
   "cell_type": "code",
   "execution_count": 1,
   "metadata": {},
   "outputs": [],
   "source": [
    "import numpy as np\n",
    "import pandas as pd\n",
    "import scipy.stats as st\n",
    "import matplotlib.pyplot as plt"
   ]
  },
  {
   "cell_type": "markdown",
   "metadata": {},
   "source": []
  },
  {
   "cell_type": "markdown",
   "metadata": {},
   "source": [
    "\n"
   ]
  },
  {
   "cell_type": "markdown",
   "metadata": {},
   "source": []
  },
  {
   "cell_type": "code",
   "execution_count": 2,
   "metadata": {},
   "outputs": [],
   "source": [
    "# ENTER INPUT FOR: start_step\n",
    "\n",
    "start_step = 100"
   ]
  },
  {
   "cell_type": "code",
   "execution_count": 3,
   "metadata": {},
   "outputs": [],
   "source": [
    "# ENTER INPUT FOR: N = num_steps\n",
    "\n",
    "N = 100"
   ]
  },
  {
   "cell_type": "code",
   "execution_count": 4,
   "metadata": {},
   "outputs": [],
   "source": [
    "# ENTER INPUT FOR: S0 = Original Stock Price\n",
    "\n",
    "S0 = 100.0"
   ]
  },
  {
   "cell_type": "code",
   "execution_count": 5,
   "metadata": {},
   "outputs": [],
   "source": [
    "# ENTER INPUT FOR: K = Excercise Price of Call Option\n",
    "\n",
    "K = 105"
   ]
  },
  {
   "cell_type": "code",
   "execution_count": 6,
   "metadata": {},
   "outputs": [],
   "source": [
    "# ENTER INPUT FOR: sigma = Annualized (Future) Volatility of Stock Price Returns\n",
    "\n",
    "sigma = 0.2"
   ]
  },
  {
   "cell_type": "code",
   "execution_count": 7,
   "metadata": {},
   "outputs": [],
   "source": [
    "# ENTER INPUT FOR: r = Annualized Continously Compounded Risk-free Rate\n",
    "\n",
    "r = 0.01"
   ]
  },
  {
   "cell_type": "code",
   "execution_count": 8,
   "metadata": {},
   "outputs": [],
   "source": [
    "# ENTER INPUT FOR: T = Time Length of Option in which to Exercise (In Years)\n",
    "\n",
    "T = 0.5"
   ]
  },
  {
   "cell_type": "code",
   "execution_count": 9,
   "metadata": {},
   "outputs": [],
   "source": [
    "# ENTER INPUT FOR: q = Rate of continuous dividend paying asset \n",
    "\n",
    "q = 0"
   ]
  },
  {
   "cell_type": "markdown",
   "metadata": {},
   "source": [
    "## Binomial Model Function"
   ]
  },
  {
   "cell_type": "code",
   "execution_count": 10,
   "metadata": {},
   "outputs": [],
   "source": [
    "\n",
    "def CRRA_model(S0, K, T, r, sigma, start_step, N):\n",
    "    \"\"\"\n",
    "    Function to calculates the value of a European Put Option using the CRR Binomial Model \n",
    "    \n",
    "    S0: Original Stock Price\n",
    "    K: Excercise Price of Call Option\n",
    "    T: Time Length of Option in which to Exercise (In Years)\n",
    "    r: Annualized Continously Compounded Risk-free Rate\n",
    "    sigma: Annualized (Future) Volatility of Stock Price Returns\n",
    "    start_step: Starting time step\n",
    "    N: Number of time steps\n",
    "    \n",
    "    \"\"\"    \n",
    "    \n",
    "    # LIST TO SAVE RESULTS\n",
    "    crrexb_result = []\n",
    "        \n",
    "    # CREATE TWO DIMENSIONAL ARRAY OF SIZE [N+1,N+1] TO STORE ALL STEPS\n",
    "    option_value = np.zeros([N+1, N+1])\n",
    "    stock_value = np.zeros([N+1, N+1])    \n",
    "    ex_boundary = np.zeros([N+1])\n",
    "    \n",
    "    # FOR LOOP STATEMENT: For a Binomial Tree from start_step to N\n",
    "    for n in range(start_step, N+1):\n",
    "        delta = T / n\n",
    "        u = np.exp(sigma * (delta)**0.5)\n",
    "        d = 1 / u\n",
    "        qu = (np.exp(r * delta) - d) / (u - d)\n",
    "        qd = 1 - qu\n",
    "        \n",
    "    # CALCULATE OPTION VALUES AT CERTAIN STEPS AND POSITIONS WITHIN THE BINOMIAL TREE:\n",
    "        j = n \n",
    "        ex_boundary[j] = K\n",
    "        output = {'time': j*delta, 'Boundary': ex_boundary[j]}\n",
    "        crrexb_result.append(output)\n",
    "        for i in range(0, j):    \n",
    "            stock_value[j, i] = S0 * (u**i) * (d**(j - i))\n",
    "            option_value[j, i] = np.maximum(K - stock_value[j, i], 0)\n",
    "\n",
    "        for j in range(n-1, -1, -1):\n",
    "            ex_boundary[j] = 0\n",
    "            for i in range(0, j+1, 1):  \n",
    "                stock_value[j, i] = S0 * (u**i) * (d**(j - i))\n",
    "                pv = np.exp(-r * delta) * (qu * option_value[j + 1, i + 1] + qd * option_value[j + 1, i])\n",
    "                if (pv < K - stock_value[j, i]):\n",
    "                    ex_boundary[j] = stock_value[j, i]\n",
    "                option_value[j, i] = np.maximum(pv, K - stock_value[j, i])\n",
    "    # RELAY OUTPUTS TO DICTIONARY\n",
    "            output = {'time': j*delta, 'Boundary': ex_boundary[j]}\n",
    "            crrexb_result.append(output)\n",
    "\n",
    "    return crrexb_result\n"
   ]
  },
  {
   "cell_type": "code",
   "execution_count": 11,
   "metadata": {},
   "outputs": [],
   "source": [
    "crr = CRRA_model(S0, K, T, r, sigma, start_step, N)"
   ]
  },
  {
   "cell_type": "code",
   "execution_count": 12,
   "metadata": {},
   "outputs": [],
   "source": [
    "# CREATE A DATAFRAME FROM THE BINOMIAL MODEL OUTPUT\n",
    "df = pd.DataFrame.from_dict(crr)"
   ]
  },
  {
   "cell_type": "code",
   "execution_count": 13,
   "metadata": {},
   "outputs": [
    {
     "data": {
      "text/html": [
       "<div>\n",
       "<style scoped>\n",
       "    .dataframe tbody tr th:only-of-type {\n",
       "        vertical-align: middle;\n",
       "    }\n",
       "\n",
       "    .dataframe tbody tr th {\n",
       "        vertical-align: top;\n",
       "    }\n",
       "\n",
       "    .dataframe thead th {\n",
       "        text-align: right;\n",
       "    }\n",
       "</style>\n",
       "<table border=\"1\" class=\"dataframe\">\n",
       "  <thead>\n",
       "    <tr style=\"text-align: right;\">\n",
       "      <th></th>\n",
       "      <th>time</th>\n",
       "      <th>Boundary</th>\n",
       "    </tr>\n",
       "  </thead>\n",
       "  <tbody>\n",
       "    <tr>\n",
       "      <th>0</th>\n",
       "      <td>0.500</td>\n",
       "      <td>105.000000</td>\n",
       "    </tr>\n",
       "    <tr>\n",
       "      <th>1</th>\n",
       "      <td>0.495</td>\n",
       "      <td>101.424261</td>\n",
       "    </tr>\n",
       "    <tr>\n",
       "      <th>2</th>\n",
       "      <td>0.490</td>\n",
       "      <td>100.000000</td>\n",
       "    </tr>\n",
       "    <tr>\n",
       "      <th>3</th>\n",
       "      <td>0.485</td>\n",
       "      <td>98.595739</td>\n",
       "    </tr>\n",
       "    <tr>\n",
       "      <th>4</th>\n",
       "      <td>0.480</td>\n",
       "      <td>97.211198</td>\n",
       "    </tr>\n",
       "  </tbody>\n",
       "</table>\n",
       "</div>"
      ],
      "text/plain": [
       "    time    Boundary\n",
       "0  0.500  105.000000\n",
       "1  0.495  101.424261\n",
       "2  0.490  100.000000\n",
       "3  0.485   98.595739\n",
       "4  0.480   97.211198"
      ]
     },
     "execution_count": 13,
     "metadata": {},
     "output_type": "execute_result"
    }
   ],
   "source": [
    "# INSPECT THE FIRST ROWS OF THE DATAFRAME\n",
    "df.head()"
   ]
  },
  {
   "cell_type": "code",
   "execution_count": 14,
   "metadata": {},
   "outputs": [
    {
     "data": {
      "text/html": [
       "<div>\n",
       "<style scoped>\n",
       "    .dataframe tbody tr th:only-of-type {\n",
       "        vertical-align: middle;\n",
       "    }\n",
       "\n",
       "    .dataframe tbody tr th {\n",
       "        vertical-align: top;\n",
       "    }\n",
       "\n",
       "    .dataframe thead th {\n",
       "        text-align: right;\n",
       "    }\n",
       "</style>\n",
       "<table border=\"1\" class=\"dataframe\">\n",
       "  <thead>\n",
       "    <tr style=\"text-align: right;\">\n",
       "      <th></th>\n",
       "      <th>time</th>\n",
       "      <th>Boundary</th>\n",
       "    </tr>\n",
       "  </thead>\n",
       "  <tbody>\n",
       "    <tr>\n",
       "      <th>96</th>\n",
       "      <td>0.020</td>\n",
       "      <td>0.0</td>\n",
       "    </tr>\n",
       "    <tr>\n",
       "      <th>97</th>\n",
       "      <td>0.015</td>\n",
       "      <td>0.0</td>\n",
       "    </tr>\n",
       "    <tr>\n",
       "      <th>98</th>\n",
       "      <td>0.010</td>\n",
       "      <td>0.0</td>\n",
       "    </tr>\n",
       "    <tr>\n",
       "      <th>99</th>\n",
       "      <td>0.005</td>\n",
       "      <td>0.0</td>\n",
       "    </tr>\n",
       "    <tr>\n",
       "      <th>100</th>\n",
       "      <td>0.000</td>\n",
       "      <td>0.0</td>\n",
       "    </tr>\n",
       "  </tbody>\n",
       "</table>\n",
       "</div>"
      ],
      "text/plain": [
       "      time  Boundary\n",
       "96   0.020       0.0\n",
       "97   0.015       0.0\n",
       "98   0.010       0.0\n",
       "99   0.005       0.0\n",
       "100  0.000       0.0"
      ]
     },
     "execution_count": 14,
     "metadata": {},
     "output_type": "execute_result"
    }
   ],
   "source": [
    "# INSPECT THE LAST ROWS OF THE DATAFRAME\n",
    "df.tail()"
   ]
  },
  {
   "cell_type": "code",
   "execution_count": 16,
   "metadata": {},
   "outputs": [],
   "source": [
    "# EXPORT THE DATA TO A CSV FILE\n",
    "df.to_csv(\"Data/Q1crrexb.csv\", index=False)"
   ]
  },
  {
   "cell_type": "markdown",
   "metadata": {},
   "source": [
    "### Binomial Model Exercise Boundary"
   ]
  },
  {
   "cell_type": "code",
   "execution_count": 17,
   "metadata": {
    "scrolled": true
   },
   "outputs": [
    {
     "data": {
      "image/png": "[encoded data removed]",
      "text/plain": [
       "<Figure size 1008x720 with 1 Axes>"
      ]
     },
     "metadata": {
      "needs_background": "light"
     },
     "output_type": "display_data"
    }
   ],
   "source": [
    "plt.figure(figsize=(14,10))\n",
    "plt.ylim(75,106)\n",
    "plt.plot(df['time'], df['Boundary'], markersize=3)\n",
    "plt.savefig('Images/Q2_crrexb.png')\n",
    "plt.show()"
   ]
  },
  {
   "cell_type": "code",
   "execution_count": null,
   "metadata": {},
   "outputs": [],
   "source": []
  }
 ],
 "metadata": {
  "kernelspec": {
   "display_name": "Python 3 (ipykernel)",
   "language": "python",
   "name": "python3"
  },
  "language_info": {
   "codemirror_mode": {
    "name": "ipython",
    "version": 3
   },
   "file_extension": ".py",
   "mimetype": "text/x-python",
   "name": "python",
   "nbconvert_exporter": "python",
   "pygments_lexer": "ipython3",
   "version": "3.9.7"
  }
 },
 "nbformat": 4,
 "nbformat_minor": 4
}
