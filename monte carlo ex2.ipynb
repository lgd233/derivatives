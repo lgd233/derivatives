{
 "cells": [
  {
   "cell_type": "markdown",
   "metadata": {},
   "source": [
    "# FIN 514 - PS4 Q2 CRR\n",
    "**Spring 2022**\n",
    "\n",
    "This notebook provides the graphs for PS3 Q3 for the CRR model\n",
    "\n",
    "## Packages and Configurations\n",
    "\n",
    "The following common packages will be use on this notebook.\n",
    "\n",
    "* numpy - [https://numpy.org/](https://numpy.org/)\n",
    "* Pandas - [https://pandas.pydata.org/](https://pandas.pydata.org/)\n",
    "* matplotlib - [https://matplotlib.org/](https://matplotlib.org/)\n",
    "* Scipy Statistical functions - [https://docs.scipy.org/doc/scipy/reference/stats.html](https://docs.scipy.org/doc/scipy/reference/stats.html)\n"
   ]
  },
  {
   "cell_type": "code",
   "execution_count": 1,
   "metadata": {},
   "outputs": [],
   "source": [
    "import numpy as np\n",
    "import pandas as pd\n",
    "import scipy.stats as st\n",
    "import matplotlib.pyplot as plt"
   ]
  },
  {
   "cell_type": "markdown",
   "metadata": {},
   "source": []
  },
  {
   "cell_type": "markdown",
   "metadata": {},
   "source": [
    "\n"
   ]
  },
  {
   "cell_type": "markdown",
   "metadata": {},
   "source": []
  },
  {
   "cell_type": "code",
   "execution_count": 2,
   "metadata": {},
   "outputs": [],
   "source": [
    "# ENTER INPUT FOR: start_step\n",
    "\n",
    "start_step = 50"
   ]
  },
  {
   "cell_type": "code",
   "execution_count": 3,
   "metadata": {},
   "outputs": [],
   "source": [
    "# ENTER INPUT FOR: N = num_steps\n",
    "\n",
    "N = 1000"
   ]
  },
  {
   "cell_type": "code",
   "execution_count": 4,
   "metadata": {},
   "outputs": [],
   "source": [
    "# ENTER INPUT FOR: S0 = Original Stock Price\n",
    "\n",
    "S0 = 100.0"
   ]
  },
  {
   "cell_type": "code",
   "execution_count": 5,
   "metadata": {},
   "outputs": [],
   "source": [
    "# ENTER INPUT FOR: K = Excercise Price of Call Option\n",
    "\n",
    "K = 100"
   ]
  },
  {
   "cell_type": "code",
   "execution_count": 6,
   "metadata": {},
   "outputs": [],
   "source": [
    "# ENTER INPUT FOR: B = Barrier level\n",
    "B = 95"
   ]
  },
  {
   "cell_type": "code",
   "execution_count": 7,
   "metadata": {},
   "outputs": [],
   "source": [
    "# ENTER INPUT FOR: sigma = Annualized (Future) Volatility of Stock Price Returns\n",
    "\n",
    "sigma = 0.3"
   ]
  },
  {
   "cell_type": "code",
   "execution_count": 8,
   "metadata": {},
   "outputs": [],
   "source": [
    "# ENTER INPUT FOR: r = Annualized Continously Compounded Risk-free Rate\n",
    "\n",
    "r = 0.1"
   ]
  },
  {
   "cell_type": "code",
   "execution_count": 9,
   "metadata": {},
   "outputs": [],
   "source": [
    "# ENTER INPUT FOR: T = Time Length of Option in which to Exercise (In Years)\n",
    "\n",
    "T = 0.2"
   ]
  },
  {
   "cell_type": "code",
   "execution_count": 10,
   "metadata": {},
   "outputs": [],
   "source": [
    "# ENTER INPUT FOR: q = Rate of continuous dividend paying asset \n",
    "\n",
    "q = 0"
   ]
  },
  {
   "cell_type": "markdown",
   "metadata": {},
   "source": [
    "## Black-Sholes Model "
   ]
  },
  {
   "cell_type": "code",
   "execution_count": 11,
   "metadata": {},
   "outputs": [],
   "source": [
    "def black_scholes(S0, K, B, T, r, q, sigma):\n",
    "    \"\"\"\n",
    "    Function to calculates the value of a European Down and Out Call Option using Black Scholes \n",
    "    \n",
    "    S0: Original Stock Price\n",
    "    K: Excercise Price of Call Option\n",
    "    T: Time Length of Option in which to Exercise (In Years)\n",
    "    r: Annualized Continously Compounded Risk-free Rate\n",
    "    q: Rate of continuous dividend paying asset \n",
    "    sigma: Annualized (Future) Volatility of Stock Price Returns\n",
    "    \n",
    "    \"\"\"\n",
    "    \n",
    "    cdf_mean = 0.0\n",
    "    cdf_sd = 1.0\n",
    "    \n",
    "    d1 = (np.log(S0 / K) + (r - q + 0.5 * sigma ** 2) * T) / (sigma * np.sqrt(T))\n",
    "    d2 = (np.log(S0 / K) + (r - q - 0.5 * sigma ** 2) * T) / (sigma * np.sqrt(T))\n",
    "    h1 = (np.log(B**2 / (K*S0)) + (r - q + 0.5 * sigma ** 2) * T) / (sigma * np.sqrt(T))\n",
    "    h2 = (np.log(B**2 / (K*S0)) + (r - q - 0.5 * sigma ** 2) * T) / (sigma * np.sqrt(T))\n",
    "    \n",
    "    value = S0 * np.exp(-q * T) * st.norm.cdf(d1, cdf_mean, cdf_sd) \n",
    "    value = value - K * np.exp(-r * T) * st.norm.cdf(d2, cdf_mean, cdf_sd) \n",
    "    value = value - (B/S0)**(1+2*r/sigma**2)*S0*st.norm.cdf(h1,cdf_mean,cdf_sd)\n",
    "    value = value + (B/S0)**(-1+2*r/sigma**2)*K*np.exp(-r * T)*st.norm.cdf(h2,cdf_mean,cdf_sd)     \n",
    " \n",
    "    return value"
   ]
  },
  {
   "cell_type": "markdown",
   "metadata": {},
   "source": [
    "## Binomial Model Function"
   ]
  },
  {
   "cell_type": "code",
   "execution_count": 12,
   "metadata": {},
   "outputs": [],
   "source": [
    "\n",
    "def CRRB_model(S0, K, B, T, r, sigma, start_step, N):\n",
    "    \"\"\"\n",
    "    Function to calculates the value of a European Put Option using the CRR Binomial Model \n",
    "    \n",
    "    S0: Original Stock Price\n",
    "    K: Excercise Price of Call Option\n",
    "    T: Time Length of Option in which to Exercise (In Years)\n",
    "    r: Annualized Continously Compounded Risk-free Rate\n",
    "    sigma: Annualized (Future) Volatility of Stock Price Returns\n",
    "    start_step: Starting time step\n",
    "    N: Number of time steps\n",
    "    \n",
    "    \"\"\"    \n",
    "    \n",
    "    # LIST TO SAVE RESULTS\n",
    "    crrb_result = []\n",
    "        \n",
    "    # CREATE TWO DIMENSIONAL ARRAY OF SIZE [N+1,N+1] TO STORE ALL STEPS\n",
    "    option_value = np.zeros([N+1, N+1])\n",
    "    stock_value = np.zeros([N+1, N+1])    \n",
    "    \n",
    "    # FOR LOOP STATEMENT: For a Binomial Tree from start_step to N\n",
    "    for n in range(start_step, N+1):\n",
    "        delta = T / n\n",
    "        u = np.exp(sigma * (delta)**0.5)\n",
    "        d = 1 / u\n",
    "        qu = (np.exp(r * delta) - d) / (u - d)\n",
    "        qd = 1 - qu\n",
    "        \n",
    "    # CALCULATE OPTION VALUES AT CERTAIN STEPS AND POSITIONS WITHIN THE BINOMIAL TREE:\n",
    "        j = n \n",
    "\n",
    "        for i in range(0, j):    \n",
    "            stock_value[j, i] = S0 * (u**i) * (d**(j - i))\n",
    "            option_value[j, i] = np.maximum(stock_value[j, i]-K, 0)\n",
    "\n",
    "            if stock_value[j, i] < B:\n",
    "                sd = stock_value[j, i]\n",
    "                \n",
    "        lamda = (sd*u*u - B)/(sd*u*u - sd)         \n",
    "        for j in range(n-1, -1, -1):\n",
    "            for i in range(j, -1, -1):\n",
    "                pv = np.exp(-r * delta) * (qu * option_value[j + 1, i + 1] + qd * option_value[j + 1, i])\n",
    "                option_value[j, i] = pv\n",
    "                stock_value[j, i] = S0 * (u**i) * (d**(j - i))\n",
    "                if stock_value[j, i] < B:\n",
    "                        option_value[j, i] = 0\n",
    "\n",
    "        \n",
    "    # RELAY OUTPUTS TO DICTIONARY\n",
    "        output = {'num_steps': n, 'CRR': option_value[0,0], 'lambda': lamda, 'sd': sd, 'su': sd*u*u}\n",
    "        crrb_result.append(output)\n",
    "\n",
    "    return crrb_result\n"
   ]
  },
  {
   "cell_type": "code",
   "execution_count": 13,
   "metadata": {},
   "outputs": [],
   "source": [
    "crr = CRRB_model(S0, K, B, T, r, sigma, start_step, N)"
   ]
  },
  {
   "cell_type": "code",
   "execution_count": 14,
   "metadata": {
    "scrolled": true
   },
   "outputs": [
    {
     "data": {
      "text/plain": [
       "4.397502559962934"
      ]
     },
     "execution_count": 14,
     "metadata": {},
     "output_type": "execute_result"
    }
   ],
   "source": [
    "bsc_value = black_scholes(S0, K, B, T, r, q, sigma)\n",
    "bsc_value"
   ]
  },
  {
   "cell_type": "code",
   "execution_count": 15,
   "metadata": {},
   "outputs": [],
   "source": [
    "# CREATE A DATAFRAME FROM THE BINOMIAL MODEL OUTPUT\n",
    "df = pd.DataFrame.from_dict(crr)"
   ]
  },
  {
   "cell_type": "code",
   "execution_count": 16,
   "metadata": {},
   "outputs": [],
   "source": [
    "# CALCULATE THE ERROR FROM BINOMIAL MODEL COMPARED WITH BLACK-SHCOLES\n",
    "df['error_CRR'] = df[\"CRR\"] - bsc_value "
   ]
  },
  {
   "cell_type": "code",
   "execution_count": 17,
   "metadata": {},
   "outputs": [
    {
     "data": {
      "text/html": [
       "<div>\n",
       "<style scoped>\n",
       "    .dataframe tbody tr th:only-of-type {\n",
       "        vertical-align: middle;\n",
       "    }\n",
       "\n",
       "    .dataframe tbody tr th {\n",
       "        vertical-align: top;\n",
       "    }\n",
       "\n",
       "    .dataframe thead th {\n",
       "        text-align: right;\n",
       "    }\n",
       "</style>\n",
       "<table border=\"1\" class=\"dataframe\">\n",
       "  <thead>\n",
       "    <tr style=\"text-align: right;\">\n",
       "      <th></th>\n",
       "      <th>num_steps</th>\n",
       "      <th>CRR</th>\n",
       "      <th>lambda</th>\n",
       "      <th>sd</th>\n",
       "      <th>su</th>\n",
       "      <th>error_CRR</th>\n",
       "    </tr>\n",
       "  </thead>\n",
       "  <tbody>\n",
       "    <tr>\n",
       "      <th>0</th>\n",
       "      <td>50</td>\n",
       "      <td>4.670343</td>\n",
       "      <td>0.356031</td>\n",
       "      <td>92.691384</td>\n",
       "      <td>96.276365</td>\n",
       "      <td>0.272840</td>\n",
       "    </tr>\n",
       "    <tr>\n",
       "      <th>1</th>\n",
       "      <td>51</td>\n",
       "      <td>4.659635</td>\n",
       "      <td>0.867329</td>\n",
       "      <td>94.519863</td>\n",
       "      <td>98.138864</td>\n",
       "      <td>0.262133</td>\n",
       "    </tr>\n",
       "    <tr>\n",
       "      <th>2</th>\n",
       "      <td>52</td>\n",
       "      <td>4.619167</td>\n",
       "      <td>0.382849</td>\n",
       "      <td>92.828095</td>\n",
       "      <td>96.347338</td>\n",
       "      <td>0.221665</td>\n",
       "    </tr>\n",
       "    <tr>\n",
       "      <th>3</th>\n",
       "      <td>53</td>\n",
       "      <td>4.608297</td>\n",
       "      <td>0.893429</td>\n",
       "      <td>94.621396</td>\n",
       "      <td>98.173992</td>\n",
       "      <td>0.210795</td>\n",
       "    </tr>\n",
       "    <tr>\n",
       "      <th>4</th>\n",
       "      <td>54</td>\n",
       "      <td>4.569699</td>\n",
       "      <td>0.409128</td>\n",
       "      <td>92.957325</td>\n",
       "      <td>96.414379</td>\n",
       "      <td>0.172197</td>\n",
       "    </tr>\n",
       "  </tbody>\n",
       "</table>\n",
       "</div>"
      ],
      "text/plain": [
       "   num_steps       CRR    lambda         sd         su  error_CRR\n",
       "0         50  4.670343  0.356031  92.691384  96.276365   0.272840\n",
       "1         51  4.659635  0.867329  94.519863  98.138864   0.262133\n",
       "2         52  4.619167  0.382849  92.828095  96.347338   0.221665\n",
       "3         53  4.608297  0.893429  94.621396  98.173992   0.210795\n",
       "4         54  4.569699  0.409128  92.957325  96.414379   0.172197"
      ]
     },
     "execution_count": 17,
     "metadata": {},
     "output_type": "execute_result"
    }
   ],
   "source": [
    "# INSPECT THE FIRST ROWS OF THE DATAFRAME\n",
    "df.head()"
   ]
  },
  {
   "cell_type": "code",
   "execution_count": 18,
   "metadata": {},
   "outputs": [
    {
     "data": {
      "text/html": [
       "<div>\n",
       "<style scoped>\n",
       "    .dataframe tbody tr th:only-of-type {\n",
       "        vertical-align: middle;\n",
       "    }\n",
       "\n",
       "    .dataframe tbody tr th {\n",
       "        vertical-align: top;\n",
       "    }\n",
       "\n",
       "    .dataframe thead th {\n",
       "        text-align: right;\n",
       "    }\n",
       "</style>\n",
       "<table border=\"1\" class=\"dataframe\">\n",
       "  <thead>\n",
       "    <tr style=\"text-align: right;\">\n",
       "      <th></th>\n",
       "      <th>num_steps</th>\n",
       "      <th>CRR</th>\n",
       "      <th>lambda</th>\n",
       "      <th>sd</th>\n",
       "      <th>su</th>\n",
       "      <th>error_CRR</th>\n",
       "    </tr>\n",
       "  </thead>\n",
       "  <tbody>\n",
       "    <tr>\n",
       "      <th>946</th>\n",
       "      <td>996</td>\n",
       "      <td>4.594805</td>\n",
       "      <td>0.033006</td>\n",
       "      <td>94.222034</td>\n",
       "      <td>95.026554</td>\n",
       "      <td>0.197303</td>\n",
       "    </tr>\n",
       "    <tr>\n",
       "      <th>947</th>\n",
       "      <td>997</td>\n",
       "      <td>4.594239</td>\n",
       "      <td>0.536955</td>\n",
       "      <td>94.626062</td>\n",
       "      <td>95.433625</td>\n",
       "      <td>0.196736</td>\n",
       "    </tr>\n",
       "    <tr>\n",
       "      <th>948</th>\n",
       "      <td>998</td>\n",
       "      <td>4.592166</td>\n",
       "      <td>0.039084</td>\n",
       "      <td>94.227656</td>\n",
       "      <td>95.031414</td>\n",
       "      <td>0.194664</td>\n",
       "    </tr>\n",
       "    <tr>\n",
       "      <th>949</th>\n",
       "      <td>999</td>\n",
       "      <td>4.591599</td>\n",
       "      <td>0.543003</td>\n",
       "      <td>94.631297</td>\n",
       "      <td>95.438092</td>\n",
       "      <td>0.194097</td>\n",
       "    </tr>\n",
       "    <tr>\n",
       "      <th>950</th>\n",
       "      <td>1000</td>\n",
       "      <td>4.589532</td>\n",
       "      <td>0.045155</td>\n",
       "      <td>94.233262</td>\n",
       "      <td>95.036260</td>\n",
       "      <td>0.192029</td>\n",
       "    </tr>\n",
       "  </tbody>\n",
       "</table>\n",
       "</div>"
      ],
      "text/plain": [
       "     num_steps       CRR    lambda         sd         su  error_CRR\n",
       "946        996  4.594805  0.033006  94.222034  95.026554   0.197303\n",
       "947        997  4.594239  0.536955  94.626062  95.433625   0.196736\n",
       "948        998  4.592166  0.039084  94.227656  95.031414   0.194664\n",
       "949        999  4.591599  0.543003  94.631297  95.438092   0.194097\n",
       "950       1000  4.589532  0.045155  94.233262  95.036260   0.192029"
      ]
     },
     "execution_count": 18,
     "metadata": {},
     "output_type": "execute_result"
    }
   ],
   "source": [
    "# INSPECT THE LAST ROWS OF THE DATAFRAME\n",
    "df.tail()"
   ]
  },
  {
   "cell_type": "code",
   "execution_count": 19,
   "metadata": {},
   "outputs": [],
   "source": [
    "# EXPORT THE DATA TO A CSV FILE\n",
    "df.to_csv(\"Data/Q3crrb.csv\", index=False)"
   ]
  },
  {
   "cell_type": "markdown",
   "metadata": {},
   "source": [
    "### Binomial Model Error Rate"
   ]
  },
  {
   "cell_type": "code",
   "execution_count": 20,
   "metadata": {},
   "outputs": [
    {
     "data": {
      "image/png": "[encoded data removed]",
      "text/plain": [
       "<Figure size 1008x720 with 2 Axes>"
      ]
     },
     "metadata": {
      "needs_background": "light"
     },
     "output_type": "display_data"
    }
   ],
   "source": [
    "fig, ax1 = plt.subplots(figsize=(14,10))\n",
    "ax1.set_ylabel('Error')\n",
    "ax1.plot(df['num_steps'], df['error_CRR'], 'o', markersize=3, color = 'tab:red')\n",
    "ax2 = ax1.twinx()\n",
    "ax2.set_ylabel('lambda')\n",
    "ax2.plot(df['num_steps'], df['lambda'], 'x', markersize=2, color = 'tab:blue')\n",
    "plt.savefig('Images/Q3_crrb.png')\n",
    "plt.show()"
   ]
  }
 ],
 "metadata": {
  "kernelspec": {
   "display_name": "Python 3 (ipykernel)",
   "language": "python",
   "name": "python3"
  },
  "language_info": {
   "codemirror_mode": {
    "name": "ipython",
    "version": 3
   },
   "file_extension": ".py",
   "mimetype": "text/x-python",
   "name": "python",
   "nbconvert_exporter": "python",
   "pygments_lexer": "ipython3",
   "version": "3.9.7"
  }
 },
 "nbformat": 4,
 "nbformat_minor": 4
}
