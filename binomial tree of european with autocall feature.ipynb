{
 "cells": [
  {
   "cell_type": "code",
   "execution_count": null,
   "metadata": {
    "id": "hEXJWimu2wTT"
   },
   "outputs": [],
   "source": []
  },
  {
   "cell_type": "markdown",
   "metadata": {
    "id": "S7nAWsd62wTV"
   },
   "source": [
    "# FIN 514 - PS3 - Airbag Autocallable\n",
    "\n",
    "**Spring 2022**\n",
    "\n",
    "This notebook provides Python codes for the valuation in PS3 Q1\n",
    "\n",
    "## Packages and Configurations\n",
    "\n",
    "The following common packages will be use on this notebook.\n",
    "\n",
    "* numpy - [https://numpy.org/](https://numpy.org/)\n",
    "* Pandas - [https://pandas.pydata.org/](https://pandas.pydata.org/)\n",
    "* matplotlib - [https://matplotlib.org/](https://matplotlib.org/)\n",
    "* Scipy Statistical functions - [https://docs.scipy.org/doc/scipy/reference/stats.html](https://docs.scipy.org/doc/scipy/reference/stats.html)\n"
   ]
  },
  {
   "cell_type": "code",
   "execution_count": 1,
   "metadata": {
    "id": "7v9_JsCq2wTX"
   },
   "outputs": [],
   "source": [
    "import numpy as np\n",
    "import pandas as pd\n",
    "import scipy.stats as st\n",
    "import matplotlib.pyplot as plt"
   ]
  },
  {
   "cell_type": "markdown",
   "metadata": {
    "id": "feXWtTa02wTY"
   },
   "source": [
    "\n"
   ]
  },
  {
   "cell_type": "markdown",
   "metadata": {
    "id": "Y4dsJOSz2wTZ"
   },
   "source": [
    "### Parameter Set up"
   ]
  },
  {
   "cell_type": "code",
   "execution_count": 2,
   "metadata": {
    "id": "5EFCvzUO2wTZ"
   },
   "outputs": [],
   "source": [
    "# ENTER INPUT FOR: N = num_steps\n",
    "\n",
    "N = 100"
   ]
  },
  {
   "cell_type": "code",
   "execution_count": 3,
   "metadata": {
    "id": "DAFkkTKq2wTa"
   },
   "outputs": [],
   "source": [
    "# ENTER INPUT FOR: S0 = Original Stock Price\n",
    "\n",
    "S0 = 200.55"
   ]
  },
  {
   "cell_type": "code",
   "execution_count": 4,
   "metadata": {
    "id": "vXDFQsLW2wTa"
   },
   "outputs": [],
   "source": [
    "# ENTER INPUT FOR: sigma = Annualized (Future) Volatility of Stock Price Returns\n",
    "\n",
    "sigma = 0.29874"
   ]
  },
  {
   "cell_type": "code",
   "execution_count": 5,
   "metadata": {
    "id": "cxRXWtBM2wTb"
   },
   "outputs": [],
   "source": [
    "# ENTER INPUT FOR: r = Annualized Continously Compounded Risk-free Rate\n",
    "\n",
    "r = 0.00175"
   ]
  },
  {
   "cell_type": "code",
   "execution_count": 6,
   "metadata": {
    "id": "ZVfiVksH2wTb"
   },
   "outputs": [],
   "source": [
    "# ENTER INPUT FOR: T = Option maturity\n",
    "\n",
    "T = 365/365"
   ]
  },
  {
   "cell_type": "code",
   "execution_count": 7,
   "metadata": {
    "id": "y7y7C5ZP2wTc"
   },
   "outputs": [],
   "source": [
    "# ENTER INPUT FOR: DIV = Size of proportional dividend\n",
    "# ND as number of dividend dates\n",
    "DIV = 0.02261/4\n",
    "ND = 4"
   ]
  },
  {
   "cell_type": "code",
   "execution_count": 8,
   "metadata": {
    "id": "gUtxDIR_2wTc"
   },
   "outputs": [],
   "source": [
    "#Enter INPUT FOR: Dates when dividends are paid, here assuming the equivalent dates as in 2020. That is \n",
    "TD = np.zeros([ND])\n",
    "TD = [24/365, 113/365, 206/365, 293/365]\n"
   ]
  },
  {
   "cell_type": "code",
   "execution_count": 9,
   "metadata": {
    "id": "ExDQ9T8S2wTc"
   },
   "outputs": [],
   "source": [
    "# ENTER INPUT FOR: whether option is call (1) or put (0)\n",
    "cp = 0"
   ]
  },
  {
   "cell_type": "markdown",
   "metadata": {
    "id": "yte9MLLJ2wTd"
   },
   "source": [
    "### Stock price tree"
   ]
  },
  {
   "cell_type": "code",
   "execution_count": 10,
   "metadata": {
    "id": "YBt2zKd42wTd"
   },
   "outputs": [],
   "source": [
    "def Stock_tree(N, S0, sigma, r, T, DIV, TD):\n",
    "    \n",
    "    stock_value = np.zeros([N+1, N+1])    \n",
    "    \n",
    "    delta = T / N\n",
    "    u = np.exp(r*delta + sigma * (delta)**0.5)\n",
    "    d = np.exp(r*delta - sigma * (delta)**0.5)\n",
    "    print(\"u = \", u, \"d=\", d)\n",
    "\n",
    "    # FIRST LET'S BUILD A STOCK PRICE TREE WITH DIVIDENDS  \n",
    "    # Let's have dividends at grid points rather than times\n",
    "    jD1 = [i/delta for i in TD]\n",
    "    #print(jD1)\n",
    "    jD = [np.ceil(i) for i in jD1]\n",
    "    print(jD)\n",
    "    \n",
    "    stock_value[0,0] = S0\n",
    "    #print(stock_value[0,0])\n",
    "    for j in range (1,N+1):\n",
    "        stock_value[j, 0] = stock_value[j-1, 0]*d \n",
    "        for i in range(1, j+1):    \n",
    "            stock_value[j, i] = stock_value[j-1, i-1]*u      \n",
    "\n",
    "    # This adjusts all stock prices for that j by the size of the dividend    \n",
    "        if j in jD: stock_value[j, :] *= (1-DIV)\n",
    "    print(stock_value[3,0], stock_value[4,0], stock_value[5,0])        \n",
    "    return stock_value"
   ]
  },
  {
   "cell_type": "code",
   "execution_count": 11,
   "metadata": {
    "colab": {
     "base_uri": "https://localhost:8080/"
    },
    "id": "7F70PlI42wTd",
    "outputId": "f48f5a3f-0fc3-4b21-9dd7-5b27bedbe4c3"
   },
   "outputs": [
    {
     "name": "stdout",
     "output_type": "stream",
     "text": [
      "u =  1.0303427357017478 d= 0.9705848024748789\n",
      "[7.0, 31.0, 57.0, 81.0]\n",
      "183.36782206417936 177.97402135841025 172.7388803658125\n"
     ]
    }
   ],
   "source": [
    "stock = Stock_tree(N, S0, sigma, r, T, DIV, TD)\n",
    "\n"
   ]
  },
  {
   "cell_type": "code",
   "execution_count": 12,
   "metadata": {
    "colab": {
     "base_uri": "https://localhost:8080/"
    },
    "id": "DVKKIOG62wTe",
    "outputId": "e3d82eee-a953-424b-82c0-04ecd38885d0"
   },
   "outputs": [
    {
     "name": "stdout",
     "output_type": "stream",
     "text": [
      "[[ 200.55          0.            0.         ...    0.\n",
      "     0.            0.        ]\n",
      " [ 194.65078214  206.63523564    0.         ...    0.\n",
      "     0.            0.        ]\n",
      " [ 188.92509093  200.55701937  212.90511399 ...    0.\n",
      "     0.            0.        ]\n",
      " ...\n",
      " [  10.51131661   11.15848783   11.84550474 ... 3669.30096031\n",
      "     0.            0.        ]\n",
      " [  10.20212415   10.83025871   11.49706688 ... 3561.36774778\n",
      "  3780.63758956    0.        ]\n",
      " [   9.90202666   10.51168451   11.15887839 ... 3456.60941202\n",
      "  3669.42938809 3895.35247672]]\n"
     ]
    }
   ],
   "source": [
    "print(stock)"
   ]
  },
  {
   "cell_type": "markdown",
   "metadata": {
    "id": "GKvzMqY32wTe"
   },
   "source": [
    "### Airbag autocallable valuation "
   ]
  },
  {
   "cell_type": "code",
   "execution_count": 13,
   "metadata": {
    "id": "FOyPwjx-2wTf"
   },
   "outputs": [],
   "source": [
    "#key details\n",
    "Face = 1000\n",
    "ratio = 1000/(0.88*S0)"
   ]
  },
  {
   "cell_type": "code",
   "execution_count": 14,
   "metadata": {
    "id": "OzEvPFNy2wTf"
   },
   "outputs": [],
   "source": [
    "#Size of coupon and number of coupons per year\n",
    "cpn = 0.0775\n",
    "nc = 12"
   ]
  },
  {
   "cell_type": "code",
   "execution_count": 15,
   "metadata": {
    "id": "7BYTUMdd2wTf"
   },
   "outputs": [],
   "source": [
    "#Coupon only dates\n",
    "tco = [34/365, 64/365, 126/365, 155/365, 216/365, 247/365, 307/365, 337/365]"
   ]
  },
  {
   "cell_type": "code",
   "execution_count": 16,
   "metadata": {
    "id": "nAr09_AZ2wTf"
   },
   "outputs": [],
   "source": [
    "#autocall observation dates\n",
    "tac = [91/365, 181/365, 273/365]"
   ]
  },
  {
   "cell_type": "code",
   "execution_count": 17,
   "metadata": {
    "id": "XFaJmQ_n2wTf"
   },
   "outputs": [],
   "source": [
    "#autocall payment dates\n",
    "tacp = [93/365, 183/365, 275/365]"
   ]
  },
  {
   "cell_type": "code",
   "execution_count": 18,
   "metadata": {
    "id": "7hUYPvuF2wTg"
   },
   "outputs": [],
   "source": [
    "\n",
    "def Bin_autocall(N, S0, Face, ratio, sigma, r, T, stock_value, cpn, nc, tco, tac, tacp):\n",
    "\n",
    "    # LIST TO SAVE RESULTS\n",
    "    autocall_result = []\n",
    "        \n",
    "    # CREATE TWO DIMENSIONAL ARRAY OF SIZE [N+1,N+1] TO STORE ALL STEPS\n",
    "    # option_value[N+1, N+1]\n",
    "    option_value = np.zeros([N+2, N+2])\n",
    "    \n",
    "    delta = T / N\n",
    "    u = np.exp(r*delta+sigma * (delta)**0.5)\n",
    "    d = np.exp(r*delta-sigma * (delta)**0.5)\n",
    "    q = (np.exp(r * delta) - d) / (u - d)\n",
    "\n",
    "    #First, let's calculate the coupon dates and accrued interest\n",
    "\n",
    "    #jC1 are the exact values of j where the coupons are paid\n",
    "    #jC are the values of j where we first factor in the coupons - \n",
    "    #where int will give us the j immediately before or on the call date\n",
    "    jco1 = [j/delta for j in tco]\n",
    "    jco = [int(j) for j in jco1]\n",
    "    \n",
    "    jac1 = [j/delta for j in tac]\n",
    "    jac = [int(j) for j in jac1]\n",
    "    #This converts the call times into times steps, \n",
    "    #where int will give us the j immediately before the call date\n",
    "    \n",
    "    j = N\n",
    "    for i in range(0, j+1): \n",
    "        option_value[j, i] = (ratio*stock_value[j,i]+Face*cpn/nc)*np.exp(-r*2/365) \n",
    "        if stock_value[j,i] > 0.88*S0: option_value[j, i] = Face*(1+cpn/nc)*np.exp(-r*2/365) \n",
    "        \n",
    "    for j in range(N-1, -1, -1):\n",
    "        if j in jco: print(\"coupon only\",j,jco.index(j))\n",
    "        if j in jac: print(\"autocall\",j,jac.index(j))    \n",
    "        for i in range(0, j+1):           \n",
    "            cont = np.exp(-r * delta) * (q * option_value[j + 1, i + 1] + (1-q) * option_value[j + 1, i])\n",
    "            if j in jco: cont = cont + Face*cpn/nc*np.exp(-r*(tco[jco.index(j)]-delta*j))  \n",
    "            # the \"if j in jC\" is a really great Python command as it will check whether the entry ever occurs \n",
    "            # in the array jC. The index command is a little erratic but here will find the equivalent entry in \n",
    "            # the tc array - again a feature that may be helpful in future projects.\n",
    "            if j in jac:\n",
    "                if stock_value[j,i]>=S0: \n",
    "                    cont = Face*(1+cpn/nc)*np.exp(-r*(tacp[jac.index(j)]-delta*j))\n",
    "                else:\n",
    "                    cont = cont + Face*cpn/nc**np.exp(-r*(tacp[jac.index(j)]-delta*j))\n",
    "            option_value[j,i] = cont\n",
    "      \n",
    "    output = {'num_steps': N, 'Value': option_value[0,0]}\n",
    "    autocall_result.append(output)\n",
    "\n",
    "    return autocall_result\n"
   ]
  },
  {
   "cell_type": "code",
   "execution_count": 19,
   "metadata": {
    "colab": {
     "base_uri": "https://localhost:8080/"
    },
    "id": "UuGwOXkv2wTg",
    "outputId": "d73a6165-2190-4a67-9551-60005390f73c"
   },
   "outputs": [
    {
     "name": "stdout",
     "output_type": "stream",
     "text": [
      "coupon only 92 7\n",
      "coupon only 84 6\n",
      "autocall 74 2\n",
      "coupon only 67 5\n",
      "coupon only 59 4\n",
      "autocall 49 1\n",
      "coupon only 42 3\n",
      "coupon only 34 2\n",
      "autocall 24 0\n",
      "coupon only 17 1\n",
      "coupon only 9 0\n"
     ]
    }
   ],
   "source": [
    "Autocall = Bin_autocall(N, S0, Face, ratio, sigma, r, T, stock, cpn, nc, tco, tac, tacp)"
   ]
  },
  {
   "cell_type": "code",
   "execution_count": 20,
   "metadata": {
    "id": "UrnYp09P2wTg"
   },
   "outputs": [],
   "source": [
    "# CREATE A DATAFRAME FROM THE BINOMIAL MODEL OUTPUT\n",
    "df = pd.DataFrame.from_dict(Autocall)"
   ]
  },
  {
   "cell_type": "code",
   "execution_count": 21,
   "metadata": {
    "colab": {
     "base_uri": "https://localhost:8080/",
     "height": 80
    },
    "id": "yezklpsw2wTh",
    "outputId": "4b089500-c20e-4e06-9c16-f784a33b00fa"
   },
   "outputs": [
    {
     "data": {
      "text/html": [
       "\n",
       "  <div id=\"df-05d816e3-fffe-47c5-aa62-ffbeeaa95e74\">\n",
       "    <div class=\"colab-df-container\">\n",
       "      <div>\n",
       "<style scoped>\n",
       "    .dataframe tbody tr th:only-of-type {\n",
       "        vertical-align: middle;\n",
       "    }\n",
       "\n",
       "    .dataframe tbody tr th {\n",
       "        vertical-align: top;\n",
       "    }\n",
       "\n",
       "    .dataframe thead th {\n",
       "        text-align: right;\n",
       "    }\n",
       "</style>\n",
       "<table border=\"1\" class=\"dataframe\">\n",
       "  <thead>\n",
       "    <tr style=\"text-align: right;\">\n",
       "      <th></th>\n",
       "      <th>num_steps</th>\n",
       "      <th>Value</th>\n",
       "    </tr>\n",
       "  </thead>\n",
       "  <tbody>\n",
       "    <tr>\n",
       "      <th>0</th>\n",
       "      <td>100</td>\n",
       "      <td>985.673637</td>\n",
       "    </tr>\n",
       "  </tbody>\n",
       "</table>\n",
       "</div>\n",
       "      <button class=\"colab-df-convert\" onclick=\"convertToInteractive('df-05d816e3-fffe-47c5-aa62-ffbeeaa95e74')\"\n",
       "              title=\"Convert this dataframe to an interactive table.\"\n",
       "              style=\"display:none;\">\n",
       "        \n",
       "  <svg xmlns=\"http://www.w3.org/2000/svg\" height=\"24px\"viewBox=\"0 0 24 24\"\n",
       "       width=\"24px\">\n",
       "    <path d=\"M0 0h24v24H0V0z\" fill=\"none\"/>\n",
       "    <path d=\"M18.56 5.44l.94 2.06.94-2.06 2.06-.94-2.06-.94-.94-2.06-.94 2.06-2.06.94zm-11 1L8.5 8.5l.94-2.06 2.06-.94-2.06-.94L8.5 2.5l-.94 2.06-2.06.94zm10 10l.94 2.06.94-2.06 2.06-.94-2.06-.94-.94-2.06-.94 2.06-2.06.94z\"/><path d=\"M17.41 7.96l-1.37-1.37c-.4-.4-.92-.59-1.43-.59-.52 0-1.04.2-1.43.59L10.3 9.45l-7.72 7.72c-.78.78-.78 2.05 0 2.83L4 21.41c.39.39.9.59 1.41.59.51 0 1.02-.2 1.41-.59l7.78-7.78 2.81-2.81c.8-.78.8-2.07 0-2.86zM5.41 20L4 18.59l7.72-7.72 1.47 1.35L5.41 20z\"/>\n",
       "  </svg>\n",
       "      </button>\n",
       "      \n",
       "  <style>\n",
       "    .colab-df-container {\n",
       "      display:flex;\n",
       "      flex-wrap:wrap;\n",
       "      gap: 12px;\n",
       "    }\n",
       "\n",
       "    .colab-df-convert {\n",
       "      background-color: #E8F0FE;\n",
       "      border: none;\n",
       "      border-radius: 50%;\n",
       "      cursor: pointer;\n",
       "      display: none;\n",
       "      fill: #1967D2;\n",
       "      height: 32px;\n",
       "      padding: 0 0 0 0;\n",
       "      width: 32px;\n",
       "    }\n",
       "\n",
       "    .colab-df-convert:hover {\n",
       "      background-color: #E2EBFA;\n",
       "      box-shadow: 0px 1px 2px rgba(60, 64, 67, 0.3), 0px 1px 3px 1px rgba(60, 64, 67, 0.15);\n",
       "      fill: #174EA6;\n",
       "    }\n",
       "\n",
       "    [theme=dark] .colab-df-convert {\n",
       "      background-color: #3B4455;\n",
       "      fill: #D2E3FC;\n",
       "    }\n",
       "\n",
       "    [theme=dark] .colab-df-convert:hover {\n",
       "      background-color: #434B5C;\n",
       "      box-shadow: 0px 1px 3px 1px rgba(0, 0, 0, 0.15);\n",
       "      filter: drop-shadow(0px 1px 2px rgba(0, 0, 0, 0.3));\n",
       "      fill: #FFFFFF;\n",
       "    }\n",
       "  </style>\n",
       "\n",
       "      <script>\n",
       "        const buttonEl =\n",
       "          document.querySelector('#df-05d816e3-fffe-47c5-aa62-ffbeeaa95e74 button.colab-df-convert');\n",
       "        buttonEl.style.display =\n",
       "          google.colab.kernel.accessAllowed ? 'block' : 'none';\n",
       "\n",
       "        async function convertToInteractive(key) {\n",
       "          const element = document.querySelector('#df-05d816e3-fffe-47c5-aa62-ffbeeaa95e74');\n",
       "          const dataTable =\n",
       "            await google.colab.kernel.invokeFunction('convertToInteractive',\n",
       "                                                     [key], {});\n",
       "          if (!dataTable) return;\n",
       "\n",
       "          const docLinkHtml = 'Like what you see? Visit the ' +\n",
       "            '<a target=\"_blank\" href=https://colab.research.google.com/notebooks/data_table.ipynb>data table notebook</a>'\n",
       "            + ' to learn more about interactive tables.';\n",
       "          element.innerHTML = '';\n",
       "          dataTable['output_type'] = 'display_data';\n",
       "          await google.colab.output.renderOutput(dataTable, element);\n",
       "          const docLink = document.createElement('div');\n",
       "          docLink.innerHTML = docLinkHtml;\n",
       "          element.appendChild(docLink);\n",
       "        }\n",
       "      </script>\n",
       "    </div>\n",
       "  </div>\n",
       "  "
      ],
      "text/plain": [
       "   num_steps       Value\n",
       "0        100  985.673637"
      ]
     },
     "execution_count": 21,
     "metadata": {},
     "output_type": "execute_result"
    }
   ],
   "source": [
    "# INSPECT THE FIRST ROWS OF THE DATAFRAME\n",
    "df.head()"
   ]
  }
 ],
 "metadata": {
  "colab": {
   "name": "2022_PS3_Q1_Python.ipynb",
   "provenance": []
  },
  "kernelspec": {
   "display_name": "Python 3",
   "language": "python",
   "name": "python3"
  },
  "language_info": {
   "codemirror_mode": {
    "name": "ipython",
    "version": 3
   },
   "file_extension": ".py",
   "mimetype": "text/x-python",
   "name": "python",
   "nbconvert_exporter": "python",
   "pygments_lexer": "ipython3",
   "version": "3.8.8"
  }
 },
 "nbformat": 4,
 "nbformat_minor": 1
}
